{
 "cells": [
  {
   "cell_type": "code",
   "execution_count": 1,
   "id": "3dca8b04",
   "metadata": {},
   "outputs": [
    {
     "name": "stdout",
     "output_type": "stream",
     "text": [
      "Requirement already satisfied: openpyxl in ./opt/anaconda3/lib/python3.8/site-packages (3.0.9)\n",
      "Requirement already satisfied: et-xmlfile in ./opt/anaconda3/lib/python3.8/site-packages (from openpyxl) (1.1.0)\n",
      "Note: you may need to restart the kernel to use updated packages.\n"
     ]
    }
   ],
   "source": [
    "pip install openpyxl"
   ]
  },
  {
   "cell_type": "code",
   "execution_count": 2,
   "id": "f15fc05d",
   "metadata": {},
   "outputs": [
    {
     "name": "stdout",
     "output_type": "stream",
     "text": [
      "Collecting lifetimes\n",
      "  Downloading Lifetimes-0.11.3-py3-none-any.whl (584 kB)\n",
      "\u001b[K     |████████████████████████████████| 584 kB 238 kB/s eta 0:00:01\n",
      "\u001b[?25hRequirement already satisfied: scipy>=1.0.0 in ./opt/anaconda3/lib/python3.8/site-packages (from lifetimes) (1.7.3)\n",
      "Requirement already satisfied: numpy>=1.10.0 in ./opt/anaconda3/lib/python3.8/site-packages (from lifetimes) (1.20.3)\n",
      "Collecting autograd>=1.2.0\n",
      "  Downloading autograd-1.6.2-py3-none-any.whl (49 kB)\n",
      "\u001b[K     |████████████████████████████████| 49 kB 6.0 MB/s  eta 0:00:01\n",
      "\u001b[?25hCollecting dill>=0.2.6\n",
      "  Downloading dill-0.3.8-py3-none-any.whl (116 kB)\n",
      "\u001b[K     |████████████████████████████████| 116 kB 4.5 MB/s eta 0:00:01\n",
      "\u001b[?25hRequirement already satisfied: pandas>=0.24.0 in ./opt/anaconda3/lib/python3.8/site-packages (from lifetimes) (1.4.1)\n",
      "Requirement already satisfied: future>=0.15.2 in ./opt/anaconda3/lib/python3.8/site-packages (from autograd>=1.2.0->lifetimes) (0.18.2)\n",
      "Requirement already satisfied: python-dateutil>=2.8.1 in ./opt/anaconda3/lib/python3.8/site-packages (from pandas>=0.24.0->lifetimes) (2.8.2)\n",
      "Requirement already satisfied: pytz>=2020.1 in ./opt/anaconda3/lib/python3.8/site-packages (from pandas>=0.24.0->lifetimes) (2021.3)\n",
      "Requirement already satisfied: six>=1.5 in ./opt/anaconda3/lib/python3.8/site-packages (from python-dateutil>=2.8.1->pandas>=0.24.0->lifetimes) (1.16.0)\n",
      "Installing collected packages: dill, autograd, lifetimes\n",
      "Successfully installed autograd-1.6.2 dill-0.3.8 lifetimes-0.11.3\n",
      "Note: you may need to restart the kernel to use updated packages.\n"
     ]
    }
   ],
   "source": [
    "pip install lifetimes"
   ]
  },
  {
   "cell_type": "code",
   "execution_count": 3,
   "id": "1c543317",
   "metadata": {},
   "outputs": [
    {
     "name": "stdout",
     "output_type": "stream",
     "text": [
      "Requirement already satisfied: xlrd in ./opt/anaconda3/lib/python3.8/site-packages (2.0.1)\n",
      "Note: you may need to restart the kernel to use updated packages.\n"
     ]
    }
   ],
   "source": [
    "pip install xlrd"
   ]
  },
  {
   "cell_type": "code",
   "execution_count": 1,
   "id": "b0539592",
   "metadata": {},
   "outputs": [],
   "source": [
    "import pandas as pd\n",
    "import numpy as np\n",
    "import datetime as dt\n",
    "from lifetimes import BetaGeoFitter\n",
    "from lifetimes import GammaGammaFitter\n",
    "from sklearn.preprocessing import MinMaxScaler\n",
    "from lifetimes.plotting import plot_probability_alive_matrix, plot_frequency_recency_matrix\n",
    "from lifetimes.plotting import plot_calibration_purchases_vs_holdout_purchases, plot_period_transactions,plot_history_alive\n",
    "pd.set_option('display.max_columns', None)\n",
    "pd.set_option('display.max_rows', None)\n",
    "pd.set_option('display.float_format', lambda x: '%.5f' % x)"
   ]
  },
  {
   "cell_type": "code",
   "execution_count": 8,
   "id": "ed8fda49",
   "metadata": {},
   "outputs": [],
   "source": [
    "df = pd.read_excel('/Users/shivanireddy/Desktop/online_retail_II.xlsx')"
   ]
  },
  {
   "cell_type": "code",
   "execution_count": 9,
   "id": "4cbb04cc",
   "metadata": {},
   "outputs": [],
   "source": [
    "sheet_name= ('Year 2010-2011')\n",
    "df_ = df.copy()"
   ]
  },
  {
   "cell_type": "code",
   "execution_count": 10,
   "id": "3f5fc720",
   "metadata": {},
   "outputs": [
    {
     "data": {
      "text/html": [
       "<div>\n",
       "<style scoped>\n",
       "    .dataframe tbody tr th:only-of-type {\n",
       "        vertical-align: middle;\n",
       "    }\n",
       "\n",
       "    .dataframe tbody tr th {\n",
       "        vertical-align: top;\n",
       "    }\n",
       "\n",
       "    .dataframe thead th {\n",
       "        text-align: right;\n",
       "    }\n",
       "</style>\n",
       "<table border=\"1\" class=\"dataframe\">\n",
       "  <thead>\n",
       "    <tr style=\"text-align: right;\">\n",
       "      <th></th>\n",
       "      <th>Invoice</th>\n",
       "      <th>StockCode</th>\n",
       "      <th>Description</th>\n",
       "      <th>Quantity</th>\n",
       "      <th>InvoiceDate</th>\n",
       "      <th>Price</th>\n",
       "      <th>Customer ID</th>\n",
       "      <th>Country</th>\n",
       "    </tr>\n",
       "  </thead>\n",
       "  <tbody>\n",
       "    <tr>\n",
       "      <th>0</th>\n",
       "      <td>489434</td>\n",
       "      <td>85048</td>\n",
       "      <td>15CM CHRISTMAS GLASS BALL 20 LIGHTS</td>\n",
       "      <td>12</td>\n",
       "      <td>2009-12-01 07:45:00</td>\n",
       "      <td>6.95000</td>\n",
       "      <td>13085.00000</td>\n",
       "      <td>United Kingdom</td>\n",
       "    </tr>\n",
       "    <tr>\n",
       "      <th>1</th>\n",
       "      <td>489434</td>\n",
       "      <td>79323P</td>\n",
       "      <td>PINK CHERRY LIGHTS</td>\n",
       "      <td>12</td>\n",
       "      <td>2009-12-01 07:45:00</td>\n",
       "      <td>6.75000</td>\n",
       "      <td>13085.00000</td>\n",
       "      <td>United Kingdom</td>\n",
       "    </tr>\n",
       "    <tr>\n",
       "      <th>2</th>\n",
       "      <td>489434</td>\n",
       "      <td>79323W</td>\n",
       "      <td>WHITE CHERRY LIGHTS</td>\n",
       "      <td>12</td>\n",
       "      <td>2009-12-01 07:45:00</td>\n",
       "      <td>6.75000</td>\n",
       "      <td>13085.00000</td>\n",
       "      <td>United Kingdom</td>\n",
       "    </tr>\n",
       "    <tr>\n",
       "      <th>3</th>\n",
       "      <td>489434</td>\n",
       "      <td>22041</td>\n",
       "      <td>RECORD FRAME 7\" SINGLE SIZE</td>\n",
       "      <td>48</td>\n",
       "      <td>2009-12-01 07:45:00</td>\n",
       "      <td>2.10000</td>\n",
       "      <td>13085.00000</td>\n",
       "      <td>United Kingdom</td>\n",
       "    </tr>\n",
       "    <tr>\n",
       "      <th>4</th>\n",
       "      <td>489434</td>\n",
       "      <td>21232</td>\n",
       "      <td>STRAWBERRY CERAMIC TRINKET BOX</td>\n",
       "      <td>24</td>\n",
       "      <td>2009-12-01 07:45:00</td>\n",
       "      <td>1.25000</td>\n",
       "      <td>13085.00000</td>\n",
       "      <td>United Kingdom</td>\n",
       "    </tr>\n",
       "  </tbody>\n",
       "</table>\n",
       "</div>"
      ],
      "text/plain": [
       "  Invoice StockCode                          Description  Quantity  \\\n",
       "0  489434     85048  15CM CHRISTMAS GLASS BALL 20 LIGHTS        12   \n",
       "1  489434    79323P                   PINK CHERRY LIGHTS        12   \n",
       "2  489434    79323W                  WHITE CHERRY LIGHTS        12   \n",
       "3  489434     22041         RECORD FRAME 7\" SINGLE SIZE         48   \n",
       "4  489434     21232       STRAWBERRY CERAMIC TRINKET BOX        24   \n",
       "\n",
       "          InvoiceDate   Price  Customer ID         Country  \n",
       "0 2009-12-01 07:45:00 6.95000  13085.00000  United Kingdom  \n",
       "1 2009-12-01 07:45:00 6.75000  13085.00000  United Kingdom  \n",
       "2 2009-12-01 07:45:00 6.75000  13085.00000  United Kingdom  \n",
       "3 2009-12-01 07:45:00 2.10000  13085.00000  United Kingdom  \n",
       "4 2009-12-01 07:45:00 1.25000  13085.00000  United Kingdom  "
      ]
     },
     "execution_count": 10,
     "metadata": {},
     "output_type": "execute_result"
    }
   ],
   "source": [
    "df.head()"
   ]
  },
  {
   "cell_type": "code",
   "execution_count": 16,
   "id": "d0a3798e",
   "metadata": {
    "scrolled": false
   },
   "outputs": [
    {
     "name": "stdout",
     "output_type": "stream",
     "text": [
      "################ Shape ####################\n",
      "(417534, 8)\n",
      "############### Columns ###################\n",
      "Index(['Invoice', 'StockCode', 'Description', 'Quantity', 'InvoiceDate',\n",
      "       'Price', 'Customer ID', 'Country'],\n",
      "      dtype='object')\n",
      "############### Types #####################\n",
      "Invoice                object\n",
      "StockCode              object\n",
      "Description            object\n",
      "Quantity                int64\n",
      "InvoiceDate    datetime64[ns]\n",
      "Price                 float64\n",
      "Customer ID           float64\n",
      "Country                object\n",
      "dtype: object\n",
      "############### Head ######################\n",
      "  Invoice StockCode                          Description  Quantity  \\\n",
      "0  489434     85048  15CM CHRISTMAS GLASS BALL 20 LIGHTS        12   \n",
      "1  489434    79323P                   PINK CHERRY LIGHTS        12   \n",
      "2  489434    79323W                  WHITE CHERRY LIGHTS        12   \n",
      "3  489434     22041         RECORD FRAME 7\" SINGLE SIZE         48   \n",
      "4  489434     21232       STRAWBERRY CERAMIC TRINKET BOX        24   \n",
      "\n",
      "          InvoiceDate   Price  Customer ID         Country  \n",
      "0 2009-12-01 07:45:00 6.95000  13085.00000  United Kingdom  \n",
      "1 2009-12-01 07:45:00 6.75000  13085.00000  United Kingdom  \n",
      "2 2009-12-01 07:45:00 6.75000  13085.00000  United Kingdom  \n",
      "3 2009-12-01 07:45:00 2.10000  13085.00000  United Kingdom  \n",
      "4 2009-12-01 07:45:00 1.25000  13085.00000  United Kingdom  \n",
      "############### Tail ######################\n",
      "       Invoice StockCode                         Description  Quantity  \\\n",
      "525456  538171     22271                FELTCRAFT DOLL ROSIE         2   \n",
      "525457  538171     22750        FELTCRAFT PRINCESS LOLA DOLL         1   \n",
      "525458  538171     22751      FELTCRAFT PRINCESS OLIVIA DOLL         1   \n",
      "525459  538171     20970  PINK FLORAL FELTCRAFT SHOULDER BAG         2   \n",
      "525460  538171     21931              JUMBO STORAGE BAG SUKI         2   \n",
      "\n",
      "               InvoiceDate   Price  Customer ID         Country  \n",
      "525456 2010-12-09 20:01:00 2.95000  17530.00000  United Kingdom  \n",
      "525457 2010-12-09 20:01:00 3.75000  17530.00000  United Kingdom  \n",
      "525458 2010-12-09 20:01:00 3.75000  17530.00000  United Kingdom  \n",
      "525459 2010-12-09 20:01:00 3.75000  17530.00000  United Kingdom  \n",
      "525460 2010-12-09 20:01:00 1.95000  17530.00000  United Kingdom  \n",
      "############### Describe ###################\n",
      "                   count        mean        std         min         25%  \\\n",
      "Quantity    417534.00000    12.75881  101.22042 -9360.00000     2.00000   \n",
      "Price       417534.00000     3.88755   71.13180     0.00000     1.25000   \n",
      "Customer ID 417534.00000 15360.64548 1680.81132 12346.00000 13983.00000   \n",
      "\n",
      "                    50%         75%         max  \n",
      "Quantity        4.00000    12.00000 19152.00000  \n",
      "Price           1.95000     3.75000 25111.09000  \n",
      "Customer ID 15311.00000 16799.00000 18287.00000  \n"
     ]
    }
   ],
   "source": [
    "def check_df(dataframe):\n",
    "    print(\"################ Shape ####################\")\n",
    "    print(dataframe.shape)\n",
    "    print(\"############### Columns ###################\")\n",
    "    print(dataframe.columns)\n",
    "    print(\"############### Types #####################\")\n",
    "    print(dataframe.dtypes)\n",
    "    print(\"############### Head ######################\")\n",
    "    print(dataframe.head())\n",
    "    print(\"############### Tail ######################\")\n",
    "    print(dataframe.tail())\n",
    "    print(\"############### Describe ###################\")\n",
    "    print(dataframe.describe().T)\n",
    "\n",
    "check_df(df)"
   ]
  },
  {
   "cell_type": "code",
   "execution_count": 20,
   "id": "85ca11c3",
   "metadata": {},
   "outputs": [],
   "source": [
    "# To find null values "
   ]
  },
  {
   "cell_type": "code",
   "execution_count": 21,
   "id": "3c835deb",
   "metadata": {},
   "outputs": [
    {
     "data": {
      "text/plain": [
       "Invoice        0\n",
       "StockCode      0\n",
       "Description    0\n",
       "Quantity       0\n",
       "InvoiceDate    0\n",
       "Price          0\n",
       "Customer ID    0\n",
       "Country        0\n",
       "dtype: int64"
      ]
     },
     "execution_count": 21,
     "metadata": {},
     "output_type": "execute_result"
    }
   ],
   "source": [
    "df.isnull().sum()"
   ]
  },
  {
   "cell_type": "code",
   "execution_count": 15,
   "id": "4d922fcb",
   "metadata": {},
   "outputs": [
    {
     "data": {
      "text/plain": [
       "Invoice        0\n",
       "StockCode      0\n",
       "Description    0\n",
       "Quantity       0\n",
       "InvoiceDate    0\n",
       "Price          0\n",
       "Customer ID    0\n",
       "Country        0\n",
       "dtype: int64"
      ]
     },
     "execution_count": 15,
     "metadata": {},
     "output_type": "execute_result"
    }
   ],
   "source": [
    "df.dropna(inplace=True)"
   ]
  },
  {
   "cell_type": "code",
   "execution_count": 22,
   "id": "cdf8ad03",
   "metadata": {},
   "outputs": [],
   "source": [
    "def outlier_thresholds(dataframe, variable):\n",
    "    quartile1 = dataframe[variable].quantile(0.01)\n",
    "    quartile3 = dataframe[variable].quantile(0.99)\n",
    "    interquantile_range = quartile3 - quartile1\n",
    "    up_limit = quartile3 + 1.5 * interquantile_range\n",
    "    low_limit = quartile1 - 1.5 * interquantile_range\n",
    "    return low_limit, up_limit\n",
    "\n",
    "\n",
    "def replace_with_thresholds(dataframe, variable):\n",
    "    low_limit, up_limit = outlier_thresholds(dataframe, variable)\n",
    "    dataframe.loc[(dataframe[variable] < low_limit), variable] = low_limit\n",
    "    dataframe.loc[(dataframe[variable] > up_limit), variable] = up_limit"
   ]
  },
  {
   "cell_type": "code",
   "execution_count": 23,
   "id": "fd316cfe",
   "metadata": {},
   "outputs": [],
   "source": [
    "df_uk = df[df['Country'] == 'United Kingdom']"
   ]
  },
  {
   "cell_type": "code",
   "execution_count": 24,
   "id": "ff4a5647",
   "metadata": {},
   "outputs": [],
   "source": [
    "df_uk = df_uk[~df_uk['Invoice'].str.contains('C', na=False)]"
   ]
  },
  {
   "cell_type": "code",
   "execution_count": 25,
   "id": "29340538",
   "metadata": {},
   "outputs": [],
   "source": [
    "df_uk = df_uk[df_uk['Price'] > 0]"
   ]
  },
  {
   "cell_type": "code",
   "execution_count": 26,
   "id": "d1d0c27b",
   "metadata": {},
   "outputs": [],
   "source": [
    "replace_with_thresholds(df_uk, 'Price')\n",
    "replace_with_thresholds(df_uk, 'Quantity')"
   ]
  },
  {
   "cell_type": "code",
   "execution_count": 27,
   "id": "9ef0022c",
   "metadata": {},
   "outputs": [
    {
     "data": {
      "text/html": [
       "<div>\n",
       "<style scoped>\n",
       "    .dataframe tbody tr th:only-of-type {\n",
       "        vertical-align: middle;\n",
       "    }\n",
       "\n",
       "    .dataframe tbody tr th {\n",
       "        vertical-align: top;\n",
       "    }\n",
       "\n",
       "    .dataframe thead th {\n",
       "        text-align: right;\n",
       "    }\n",
       "</style>\n",
       "<table border=\"1\" class=\"dataframe\">\n",
       "  <thead>\n",
       "    <tr style=\"text-align: right;\">\n",
       "      <th></th>\n",
       "      <th>Invoice</th>\n",
       "      <th>StockCode</th>\n",
       "      <th>Description</th>\n",
       "      <th>Quantity</th>\n",
       "      <th>InvoiceDate</th>\n",
       "      <th>Price</th>\n",
       "      <th>Customer ID</th>\n",
       "      <th>Country</th>\n",
       "    </tr>\n",
       "  </thead>\n",
       "  <tbody>\n",
       "    <tr>\n",
       "      <th>0</th>\n",
       "      <td>489434</td>\n",
       "      <td>85048</td>\n",
       "      <td>15CM CHRISTMAS GLASS BALL 20 LIGHTS</td>\n",
       "      <td>12.00000</td>\n",
       "      <td>2009-12-01 07:45:00</td>\n",
       "      <td>6.95000</td>\n",
       "      <td>13085.00000</td>\n",
       "      <td>United Kingdom</td>\n",
       "    </tr>\n",
       "    <tr>\n",
       "      <th>1</th>\n",
       "      <td>489434</td>\n",
       "      <td>79323P</td>\n",
       "      <td>PINK CHERRY LIGHTS</td>\n",
       "      <td>12.00000</td>\n",
       "      <td>2009-12-01 07:45:00</td>\n",
       "      <td>6.75000</td>\n",
       "      <td>13085.00000</td>\n",
       "      <td>United Kingdom</td>\n",
       "    </tr>\n",
       "    <tr>\n",
       "      <th>2</th>\n",
       "      <td>489434</td>\n",
       "      <td>79323W</td>\n",
       "      <td>WHITE CHERRY LIGHTS</td>\n",
       "      <td>12.00000</td>\n",
       "      <td>2009-12-01 07:45:00</td>\n",
       "      <td>6.75000</td>\n",
       "      <td>13085.00000</td>\n",
       "      <td>United Kingdom</td>\n",
       "    </tr>\n",
       "    <tr>\n",
       "      <th>3</th>\n",
       "      <td>489434</td>\n",
       "      <td>22041</td>\n",
       "      <td>RECORD FRAME 7\" SINGLE SIZE</td>\n",
       "      <td>48.00000</td>\n",
       "      <td>2009-12-01 07:45:00</td>\n",
       "      <td>2.10000</td>\n",
       "      <td>13085.00000</td>\n",
       "      <td>United Kingdom</td>\n",
       "    </tr>\n",
       "    <tr>\n",
       "      <th>4</th>\n",
       "      <td>489434</td>\n",
       "      <td>21232</td>\n",
       "      <td>STRAWBERRY CERAMIC TRINKET BOX</td>\n",
       "      <td>24.00000</td>\n",
       "      <td>2009-12-01 07:45:00</td>\n",
       "      <td>1.25000</td>\n",
       "      <td>13085.00000</td>\n",
       "      <td>United Kingdom</td>\n",
       "    </tr>\n",
       "  </tbody>\n",
       "</table>\n",
       "</div>"
      ],
      "text/plain": [
       "  Invoice StockCode                          Description  Quantity  \\\n",
       "0  489434     85048  15CM CHRISTMAS GLASS BALL 20 LIGHTS  12.00000   \n",
       "1  489434    79323P                   PINK CHERRY LIGHTS  12.00000   \n",
       "2  489434    79323W                  WHITE CHERRY LIGHTS  12.00000   \n",
       "3  489434     22041         RECORD FRAME 7\" SINGLE SIZE   48.00000   \n",
       "4  489434     21232       STRAWBERRY CERAMIC TRINKET BOX  24.00000   \n",
       "\n",
       "          InvoiceDate   Price  Customer ID         Country  \n",
       "0 2009-12-01 07:45:00 6.95000  13085.00000  United Kingdom  \n",
       "1 2009-12-01 07:45:00 6.75000  13085.00000  United Kingdom  \n",
       "2 2009-12-01 07:45:00 6.75000  13085.00000  United Kingdom  \n",
       "3 2009-12-01 07:45:00 2.10000  13085.00000  United Kingdom  \n",
       "4 2009-12-01 07:45:00 1.25000  13085.00000  United Kingdom  "
      ]
     },
     "execution_count": 27,
     "metadata": {},
     "output_type": "execute_result"
    }
   ],
   "source": [
    "df_uk.head()"
   ]
  },
  {
   "cell_type": "code",
   "execution_count": 28,
   "id": "84009ab1",
   "metadata": {},
   "outputs": [],
   "source": [
    "df_uk['TotalPrice'] = df_uk['Quantity'] * df_uk['Price']"
   ]
  },
  {
   "cell_type": "code",
   "execution_count": 29,
   "id": "e27e199a",
   "metadata": {},
   "outputs": [
    {
     "data": {
      "text/html": [
       "<div>\n",
       "<style scoped>\n",
       "    .dataframe tbody tr th:only-of-type {\n",
       "        vertical-align: middle;\n",
       "    }\n",
       "\n",
       "    .dataframe tbody tr th {\n",
       "        vertical-align: top;\n",
       "    }\n",
       "\n",
       "    .dataframe thead th {\n",
       "        text-align: right;\n",
       "    }\n",
       "</style>\n",
       "<table border=\"1\" class=\"dataframe\">\n",
       "  <thead>\n",
       "    <tr style=\"text-align: right;\">\n",
       "      <th></th>\n",
       "      <th>Invoice</th>\n",
       "      <th>StockCode</th>\n",
       "      <th>Description</th>\n",
       "      <th>Quantity</th>\n",
       "      <th>InvoiceDate</th>\n",
       "      <th>Price</th>\n",
       "      <th>Customer ID</th>\n",
       "      <th>Country</th>\n",
       "      <th>TotalPrice</th>\n",
       "    </tr>\n",
       "  </thead>\n",
       "  <tbody>\n",
       "    <tr>\n",
       "      <th>502938</th>\n",
       "      <td>536365</td>\n",
       "      <td>85123A</td>\n",
       "      <td>WHITE HANGING HEART T-LIGHT HOLDER</td>\n",
       "      <td>6.00000</td>\n",
       "      <td>2010-12-01 08:26:00</td>\n",
       "      <td>2.55000</td>\n",
       "      <td>17850.00000</td>\n",
       "      <td>United Kingdom</td>\n",
       "      <td>15.30000</td>\n",
       "    </tr>\n",
       "    <tr>\n",
       "      <th>502939</th>\n",
       "      <td>536365</td>\n",
       "      <td>71053</td>\n",
       "      <td>WHITE METAL LANTERN</td>\n",
       "      <td>6.00000</td>\n",
       "      <td>2010-12-01 08:26:00</td>\n",
       "      <td>3.39000</td>\n",
       "      <td>17850.00000</td>\n",
       "      <td>United Kingdom</td>\n",
       "      <td>20.34000</td>\n",
       "    </tr>\n",
       "    <tr>\n",
       "      <th>502940</th>\n",
       "      <td>536365</td>\n",
       "      <td>84406B</td>\n",
       "      <td>CREAM CUPID HEARTS COAT HANGER</td>\n",
       "      <td>8.00000</td>\n",
       "      <td>2010-12-01 08:26:00</td>\n",
       "      <td>2.75000</td>\n",
       "      <td>17850.00000</td>\n",
       "      <td>United Kingdom</td>\n",
       "      <td>22.00000</td>\n",
       "    </tr>\n",
       "    <tr>\n",
       "      <th>502941</th>\n",
       "      <td>536365</td>\n",
       "      <td>84029G</td>\n",
       "      <td>KNITTED UNION FLAG HOT WATER BOTTLE</td>\n",
       "      <td>6.00000</td>\n",
       "      <td>2010-12-01 08:26:00</td>\n",
       "      <td>3.39000</td>\n",
       "      <td>17850.00000</td>\n",
       "      <td>United Kingdom</td>\n",
       "      <td>20.34000</td>\n",
       "    </tr>\n",
       "    <tr>\n",
       "      <th>502942</th>\n",
       "      <td>536365</td>\n",
       "      <td>84029E</td>\n",
       "      <td>RED WOOLLY HOTTIE WHITE HEART.</td>\n",
       "      <td>6.00000</td>\n",
       "      <td>2010-12-01 08:26:00</td>\n",
       "      <td>3.39000</td>\n",
       "      <td>17850.00000</td>\n",
       "      <td>United Kingdom</td>\n",
       "      <td>20.34000</td>\n",
       "    </tr>\n",
       "    <tr>\n",
       "      <th>502943</th>\n",
       "      <td>536365</td>\n",
       "      <td>22752</td>\n",
       "      <td>SET 7 BABUSHKA NESTING BOXES</td>\n",
       "      <td>2.00000</td>\n",
       "      <td>2010-12-01 08:26:00</td>\n",
       "      <td>7.65000</td>\n",
       "      <td>17850.00000</td>\n",
       "      <td>United Kingdom</td>\n",
       "      <td>15.30000</td>\n",
       "    </tr>\n",
       "    <tr>\n",
       "      <th>502944</th>\n",
       "      <td>536365</td>\n",
       "      <td>21730</td>\n",
       "      <td>GLASS STAR FROSTED T-LIGHT HOLDER</td>\n",
       "      <td>6.00000</td>\n",
       "      <td>2010-12-01 08:26:00</td>\n",
       "      <td>4.25000</td>\n",
       "      <td>17850.00000</td>\n",
       "      <td>United Kingdom</td>\n",
       "      <td>25.50000</td>\n",
       "    </tr>\n",
       "  </tbody>\n",
       "</table>\n",
       "</div>"
      ],
      "text/plain": [
       "       Invoice StockCode                          Description  Quantity  \\\n",
       "502938  536365    85123A   WHITE HANGING HEART T-LIGHT HOLDER   6.00000   \n",
       "502939  536365     71053                  WHITE METAL LANTERN   6.00000   \n",
       "502940  536365    84406B       CREAM CUPID HEARTS COAT HANGER   8.00000   \n",
       "502941  536365    84029G  KNITTED UNION FLAG HOT WATER BOTTLE   6.00000   \n",
       "502942  536365    84029E       RED WOOLLY HOTTIE WHITE HEART.   6.00000   \n",
       "502943  536365     22752         SET 7 BABUSHKA NESTING BOXES   2.00000   \n",
       "502944  536365     21730    GLASS STAR FROSTED T-LIGHT HOLDER   6.00000   \n",
       "\n",
       "               InvoiceDate   Price  Customer ID         Country  TotalPrice  \n",
       "502938 2010-12-01 08:26:00 2.55000  17850.00000  United Kingdom    15.30000  \n",
       "502939 2010-12-01 08:26:00 3.39000  17850.00000  United Kingdom    20.34000  \n",
       "502940 2010-12-01 08:26:00 2.75000  17850.00000  United Kingdom    22.00000  \n",
       "502941 2010-12-01 08:26:00 3.39000  17850.00000  United Kingdom    20.34000  \n",
       "502942 2010-12-01 08:26:00 3.39000  17850.00000  United Kingdom    20.34000  \n",
       "502943 2010-12-01 08:26:00 7.65000  17850.00000  United Kingdom    15.30000  \n",
       "502944 2010-12-01 08:26:00 4.25000  17850.00000  United Kingdom    25.50000  "
      ]
     },
     "execution_count": 29,
     "metadata": {},
     "output_type": "execute_result"
    }
   ],
   "source": [
    "df_uk[df_uk['Invoice'] == 536365]"
   ]
  },
  {
   "cell_type": "code",
   "execution_count": 30,
   "id": "211ad7b6",
   "metadata": {},
   "outputs": [
    {
     "data": {
      "text/plain": [
       "Timestamp('2010-12-09 20:01:00')"
      ]
     },
     "execution_count": 30,
     "metadata": {},
     "output_type": "execute_result"
    }
   ],
   "source": [
    "df_uk['InvoiceDate'].max()"
   ]
  },
  {
   "cell_type": "code",
   "execution_count": 31,
   "id": "7c8a9443",
   "metadata": {},
   "outputs": [
    {
     "data": {
      "text/plain": [
       "Timestamp('2009-12-01 07:45:00')"
      ]
     },
     "execution_count": 31,
     "metadata": {},
     "output_type": "execute_result"
    }
   ],
   "source": [
    "df_uk['InvoiceDate'].min()"
   ]
  },
  {
   "cell_type": "code",
   "execution_count": 32,
   "id": "00622052",
   "metadata": {},
   "outputs": [],
   "source": [
    "today_date = dt.datetime(2011, 12, 11)"
   ]
  },
  {
   "cell_type": "code",
   "execution_count": 33,
   "id": "4e49ea23",
   "metadata": {},
   "outputs": [
    {
     "data": {
      "text/html": [
       "<div>\n",
       "<style scoped>\n",
       "    .dataframe tbody tr th:only-of-type {\n",
       "        vertical-align: middle;\n",
       "    }\n",
       "\n",
       "    .dataframe tbody tr th {\n",
       "        vertical-align: top;\n",
       "    }\n",
       "\n",
       "    .dataframe thead th {\n",
       "        text-align: right;\n",
       "    }\n",
       "</style>\n",
       "<table border=\"1\" class=\"dataframe\">\n",
       "  <thead>\n",
       "    <tr style=\"text-align: right;\">\n",
       "      <th></th>\n",
       "      <th>Invoice</th>\n",
       "      <th>StockCode</th>\n",
       "      <th>Description</th>\n",
       "      <th>Quantity</th>\n",
       "      <th>InvoiceDate</th>\n",
       "      <th>Price</th>\n",
       "      <th>Customer ID</th>\n",
       "      <th>Country</th>\n",
       "    </tr>\n",
       "  </thead>\n",
       "  <tbody>\n",
       "    <tr>\n",
       "      <th>0</th>\n",
       "      <td>489434</td>\n",
       "      <td>85048</td>\n",
       "      <td>15CM CHRISTMAS GLASS BALL 20 LIGHTS</td>\n",
       "      <td>12</td>\n",
       "      <td>2009-12-01 07:45:00</td>\n",
       "      <td>6.95000</td>\n",
       "      <td>13085.00000</td>\n",
       "      <td>United Kingdom</td>\n",
       "    </tr>\n",
       "    <tr>\n",
       "      <th>1</th>\n",
       "      <td>489434</td>\n",
       "      <td>79323P</td>\n",
       "      <td>PINK CHERRY LIGHTS</td>\n",
       "      <td>12</td>\n",
       "      <td>2009-12-01 07:45:00</td>\n",
       "      <td>6.75000</td>\n",
       "      <td>13085.00000</td>\n",
       "      <td>United Kingdom</td>\n",
       "    </tr>\n",
       "    <tr>\n",
       "      <th>2</th>\n",
       "      <td>489434</td>\n",
       "      <td>79323W</td>\n",
       "      <td>WHITE CHERRY LIGHTS</td>\n",
       "      <td>12</td>\n",
       "      <td>2009-12-01 07:45:00</td>\n",
       "      <td>6.75000</td>\n",
       "      <td>13085.00000</td>\n",
       "      <td>United Kingdom</td>\n",
       "    </tr>\n",
       "    <tr>\n",
       "      <th>3</th>\n",
       "      <td>489434</td>\n",
       "      <td>22041</td>\n",
       "      <td>RECORD FRAME 7\" SINGLE SIZE</td>\n",
       "      <td>48</td>\n",
       "      <td>2009-12-01 07:45:00</td>\n",
       "      <td>2.10000</td>\n",
       "      <td>13085.00000</td>\n",
       "      <td>United Kingdom</td>\n",
       "    </tr>\n",
       "    <tr>\n",
       "      <th>4</th>\n",
       "      <td>489434</td>\n",
       "      <td>21232</td>\n",
       "      <td>STRAWBERRY CERAMIC TRINKET BOX</td>\n",
       "      <td>24</td>\n",
       "      <td>2009-12-01 07:45:00</td>\n",
       "      <td>1.25000</td>\n",
       "      <td>13085.00000</td>\n",
       "      <td>United Kingdom</td>\n",
       "    </tr>\n",
       "  </tbody>\n",
       "</table>\n",
       "</div>"
      ],
      "text/plain": [
       "  Invoice StockCode                          Description  Quantity  \\\n",
       "0  489434     85048  15CM CHRISTMAS GLASS BALL 20 LIGHTS        12   \n",
       "1  489434    79323P                   PINK CHERRY LIGHTS        12   \n",
       "2  489434    79323W                  WHITE CHERRY LIGHTS        12   \n",
       "3  489434     22041         RECORD FRAME 7\" SINGLE SIZE         48   \n",
       "4  489434     21232       STRAWBERRY CERAMIC TRINKET BOX        24   \n",
       "\n",
       "          InvoiceDate   Price  Customer ID         Country  \n",
       "0 2009-12-01 07:45:00 6.95000  13085.00000  United Kingdom  \n",
       "1 2009-12-01 07:45:00 6.75000  13085.00000  United Kingdom  \n",
       "2 2009-12-01 07:45:00 6.75000  13085.00000  United Kingdom  \n",
       "3 2009-12-01 07:45:00 2.10000  13085.00000  United Kingdom  \n",
       "4 2009-12-01 07:45:00 1.25000  13085.00000  United Kingdom  "
      ]
     },
     "execution_count": 33,
     "metadata": {},
     "output_type": "execute_result"
    }
   ],
   "source": [
    "df.head()"
   ]
  },
  {
   "cell_type": "code",
   "execution_count": 34,
   "id": "8e9dd3b1",
   "metadata": {},
   "outputs": [
    {
     "data": {
      "text/plain": [
       "Invoice                object\n",
       "StockCode              object\n",
       "Description            object\n",
       "Quantity                int64\n",
       "InvoiceDate    datetime64[ns]\n",
       "Price                 float64\n",
       "Customer ID           float64\n",
       "Country                object\n",
       "dtype: object"
      ]
     },
     "execution_count": 34,
     "metadata": {},
     "output_type": "execute_result"
    }
   ],
   "source": [
    "df.dtypes"
   ]
  },
  {
   "cell_type": "code",
   "execution_count": 35,
   "id": "ec782cd3",
   "metadata": {},
   "outputs": [],
   "source": [
    "df_uk = df_uk.groupby('Customer ID').agg({'TotalPrice':'sum',\n",
    "                              'InvoiceDate': [lambda date: (date.max()-date.min()).days,\n",
    "                                              lambda date: (today_date - date.min()).days],\n",
    "                              'Invoice': lambda Invoice: Invoice.nunique()})"
   ]
  },
  {
   "cell_type": "code",
   "execution_count": 38,
   "id": "60d54f17",
   "metadata": {},
   "outputs": [
    {
     "data": {
      "text/html": [
       "<div>\n",
       "<style scoped>\n",
       "    .dataframe tbody tr th:only-of-type {\n",
       "        vertical-align: middle;\n",
       "    }\n",
       "\n",
       "    .dataframe tbody tr th {\n",
       "        vertical-align: top;\n",
       "    }\n",
       "\n",
       "    .dataframe thead tr th {\n",
       "        text-align: left;\n",
       "    }\n",
       "\n",
       "    .dataframe thead tr:last-of-type th {\n",
       "        text-align: right;\n",
       "    }\n",
       "</style>\n",
       "<table border=\"1\" class=\"dataframe\">\n",
       "  <thead>\n",
       "    <tr>\n",
       "      <th></th>\n",
       "      <th>TotalPrice</th>\n",
       "      <th colspan=\"2\" halign=\"left\">InvoiceDate</th>\n",
       "      <th>Invoice</th>\n",
       "    </tr>\n",
       "    <tr>\n",
       "      <th></th>\n",
       "      <th>sum</th>\n",
       "      <th>&lt;lambda_0&gt;</th>\n",
       "      <th>&lt;lambda_1&gt;</th>\n",
       "      <th>&lt;lambda&gt;</th>\n",
       "    </tr>\n",
       "    <tr>\n",
       "      <th>Customer ID</th>\n",
       "      <th></th>\n",
       "      <th></th>\n",
       "      <th></th>\n",
       "      <th></th>\n",
       "    </tr>\n",
       "  </thead>\n",
       "  <tbody>\n",
       "    <tr>\n",
       "      <th>12346.00000</th>\n",
       "      <td>372.86000</td>\n",
       "      <td>196</td>\n",
       "      <td>726</td>\n",
       "      <td>11</td>\n",
       "    </tr>\n",
       "    <tr>\n",
       "      <th>12608.00000</th>\n",
       "      <td>415.79000</td>\n",
       "      <td>0</td>\n",
       "      <td>405</td>\n",
       "      <td>1</td>\n",
       "    </tr>\n",
       "    <tr>\n",
       "      <th>12745.00000</th>\n",
       "      <td>723.85000</td>\n",
       "      <td>87</td>\n",
       "      <td>575</td>\n",
       "      <td>2</td>\n",
       "    </tr>\n",
       "    <tr>\n",
       "      <th>12746.00000</th>\n",
       "      <td>254.55000</td>\n",
       "      <td>0</td>\n",
       "      <td>541</td>\n",
       "      <td>1</td>\n",
       "    </tr>\n",
       "    <tr>\n",
       "      <th>12747.00000</th>\n",
       "      <td>5080.53000</td>\n",
       "      <td>363</td>\n",
       "      <td>733</td>\n",
       "      <td>16</td>\n",
       "    </tr>\n",
       "  </tbody>\n",
       "</table>\n",
       "</div>"
      ],
      "text/plain": [
       "            TotalPrice InvoiceDate             Invoice\n",
       "                   sum  <lambda_0> <lambda_1> <lambda>\n",
       "Customer ID                                           \n",
       "12346.00000  372.86000         196        726       11\n",
       "12608.00000  415.79000           0        405        1\n",
       "12745.00000  723.85000          87        575        2\n",
       "12746.00000  254.55000           0        541        1\n",
       "12747.00000 5080.53000         363        733       16"
      ]
     },
     "execution_count": 38,
     "metadata": {},
     "output_type": "execute_result"
    }
   ],
   "source": [
    "df_uk.head()"
   ]
  },
  {
   "cell_type": "code",
   "execution_count": 39,
   "id": "079962a7",
   "metadata": {},
   "outputs": [
    {
     "data": {
      "text/plain": [
       "Index(['sum', '<lambda_0>', '<lambda_1>', '<lambda>'], dtype='object')"
      ]
     },
     "execution_count": 39,
     "metadata": {},
     "output_type": "execute_result"
    }
   ],
   "source": [
    "df_uk.columns.droplevel(0)"
   ]
  },
  {
   "cell_type": "code",
   "execution_count": 40,
   "id": "862950a4",
   "metadata": {},
   "outputs": [],
   "source": [
    "df_uk.columns = ['monetary', 'recency', 'T', 'frequency']"
   ]
  },
  {
   "cell_type": "code",
   "execution_count": 41,
   "id": "166245f2",
   "metadata": {},
   "outputs": [
    {
     "data": {
      "text/html": [
       "<div>\n",
       "<style scoped>\n",
       "    .dataframe tbody tr th:only-of-type {\n",
       "        vertical-align: middle;\n",
       "    }\n",
       "\n",
       "    .dataframe tbody tr th {\n",
       "        vertical-align: top;\n",
       "    }\n",
       "\n",
       "    .dataframe thead th {\n",
       "        text-align: right;\n",
       "    }\n",
       "</style>\n",
       "<table border=\"1\" class=\"dataframe\">\n",
       "  <thead>\n",
       "    <tr style=\"text-align: right;\">\n",
       "      <th></th>\n",
       "      <th>monetary</th>\n",
       "      <th>recency</th>\n",
       "      <th>T</th>\n",
       "      <th>frequency</th>\n",
       "    </tr>\n",
       "    <tr>\n",
       "      <th>Customer ID</th>\n",
       "      <th></th>\n",
       "      <th></th>\n",
       "      <th></th>\n",
       "      <th></th>\n",
       "    </tr>\n",
       "  </thead>\n",
       "  <tbody>\n",
       "    <tr>\n",
       "      <th>12346.00000</th>\n",
       "      <td>372.86000</td>\n",
       "      <td>196</td>\n",
       "      <td>726</td>\n",
       "      <td>11</td>\n",
       "    </tr>\n",
       "    <tr>\n",
       "      <th>12608.00000</th>\n",
       "      <td>415.79000</td>\n",
       "      <td>0</td>\n",
       "      <td>405</td>\n",
       "      <td>1</td>\n",
       "    </tr>\n",
       "    <tr>\n",
       "      <th>12745.00000</th>\n",
       "      <td>723.85000</td>\n",
       "      <td>87</td>\n",
       "      <td>575</td>\n",
       "      <td>2</td>\n",
       "    </tr>\n",
       "    <tr>\n",
       "      <th>12746.00000</th>\n",
       "      <td>254.55000</td>\n",
       "      <td>0</td>\n",
       "      <td>541</td>\n",
       "      <td>1</td>\n",
       "    </tr>\n",
       "    <tr>\n",
       "      <th>12747.00000</th>\n",
       "      <td>5080.53000</td>\n",
       "      <td>363</td>\n",
       "      <td>733</td>\n",
       "      <td>16</td>\n",
       "    </tr>\n",
       "  </tbody>\n",
       "</table>\n",
       "</div>"
      ],
      "text/plain": [
       "              monetary  recency    T  frequency\n",
       "Customer ID                                    \n",
       "12346.00000  372.86000      196  726         11\n",
       "12608.00000  415.79000        0  405          1\n",
       "12745.00000  723.85000       87  575          2\n",
       "12746.00000  254.55000        0  541          1\n",
       "12747.00000 5080.53000      363  733         16"
      ]
     },
     "execution_count": 41,
     "metadata": {},
     "output_type": "execute_result"
    }
   ],
   "source": [
    "df_uk.head()"
   ]
  },
  {
   "cell_type": "code",
   "execution_count": 47,
   "id": "b3835a93",
   "metadata": {},
   "outputs": [
    {
     "data": {
      "text/html": [
       "<div>\n",
       "<style scoped>\n",
       "    .dataframe tbody tr th:only-of-type {\n",
       "        vertical-align: middle;\n",
       "    }\n",
       "\n",
       "    .dataframe tbody tr th {\n",
       "        vertical-align: top;\n",
       "    }\n",
       "\n",
       "    .dataframe thead th {\n",
       "        text-align: right;\n",
       "    }\n",
       "</style>\n",
       "<table border=\"1\" class=\"dataframe\">\n",
       "  <thead>\n",
       "    <tr style=\"text-align: right;\">\n",
       "      <th></th>\n",
       "      <th>coef</th>\n",
       "      <th>se(coef)</th>\n",
       "      <th>lower 95% bound</th>\n",
       "      <th>upper 95% bound</th>\n",
       "    </tr>\n",
       "  </thead>\n",
       "  <tbody>\n",
       "    <tr>\n",
       "      <th>r</th>\n",
       "      <td>2.41852</td>\n",
       "      <td>0.09732</td>\n",
       "      <td>2.22777</td>\n",
       "      <td>2.60927</td>\n",
       "    </tr>\n",
       "    <tr>\n",
       "      <th>alpha</th>\n",
       "      <td>0.00438</td>\n",
       "      <td>0.00020</td>\n",
       "      <td>0.00398</td>\n",
       "      <td>0.00478</td>\n",
       "    </tr>\n",
       "    <tr>\n",
       "      <th>a</th>\n",
       "      <td>6.96111</td>\n",
       "      <td>0.77595</td>\n",
       "      <td>5.44025</td>\n",
       "      <td>8.48197</td>\n",
       "    </tr>\n",
       "    <tr>\n",
       "      <th>b</th>\n",
       "      <td>30.67800</td>\n",
       "      <td>3.84058</td>\n",
       "      <td>23.15046</td>\n",
       "      <td>38.20554</td>\n",
       "    </tr>\n",
       "  </tbody>\n",
       "</table>\n",
       "</div>"
      ],
      "text/plain": [
       "          coef  se(coef)  lower 95% bound  upper 95% bound\n",
       "r      2.41852   0.09732          2.22777          2.60927\n",
       "alpha  0.00438   0.00020          0.00398          0.00478\n",
       "a      6.96111   0.77595          5.44025          8.48197\n",
       "b     30.67800   3.84058         23.15046         38.20554"
      ]
     },
     "execution_count": 47,
     "metadata": {},
     "output_type": "execute_result"
    }
   ],
   "source": [
    "df_uk['monetary'] = df_uk['monetary'] / df_uk['frequency']\n",
    "df_uk = df_uk[df_uk['frequency'] > 1]\n",
    "df_uk['recency'] = df_uk['recency'] / 7\n",
    "df_uk['T'] = df_uk['T'] / 7\n"
   ]
  },
  {
   "cell_type": "code",
   "execution_count": 75,
   "id": "f5374057",
   "metadata": {},
   "outputs": [
    {
     "data": {
      "text/plain": [
       "<lifetimes.BetaGeoFitter: fitted with 2665 subjects, a: 6.96, alpha: 0.00, b: 30.68, r: 2.42>"
      ]
     },
     "execution_count": 75,
     "metadata": {},
     "output_type": "execute_result"
    }
   ],
   "source": [
    "bgf = BetaGeoFitter()\n",
    "bgf.fit(df_uk['frequency'], df_uk['recency'], df_uk['T'])"
   ]
  },
  {
   "cell_type": "code",
   "execution_count": 76,
   "id": "6a80b5d2",
   "metadata": {},
   "outputs": [
    {
     "data": {
      "text/html": [
       "<div>\n",
       "<style scoped>\n",
       "    .dataframe tbody tr th:only-of-type {\n",
       "        vertical-align: middle;\n",
       "    }\n",
       "\n",
       "    .dataframe tbody tr th {\n",
       "        vertical-align: top;\n",
       "    }\n",
       "\n",
       "    .dataframe thead th {\n",
       "        text-align: right;\n",
       "    }\n",
       "</style>\n",
       "<table border=\"1\" class=\"dataframe\">\n",
       "  <thead>\n",
       "    <tr style=\"text-align: right;\">\n",
       "      <th></th>\n",
       "      <th>coef</th>\n",
       "      <th>se(coef)</th>\n",
       "      <th>lower 95% bound</th>\n",
       "      <th>upper 95% bound</th>\n",
       "    </tr>\n",
       "  </thead>\n",
       "  <tbody>\n",
       "    <tr>\n",
       "      <th>r</th>\n",
       "      <td>2.41852</td>\n",
       "      <td>0.09732</td>\n",
       "      <td>2.22777</td>\n",
       "      <td>2.60927</td>\n",
       "    </tr>\n",
       "    <tr>\n",
       "      <th>alpha</th>\n",
       "      <td>0.00438</td>\n",
       "      <td>0.00020</td>\n",
       "      <td>0.00398</td>\n",
       "      <td>0.00478</td>\n",
       "    </tr>\n",
       "    <tr>\n",
       "      <th>a</th>\n",
       "      <td>6.96111</td>\n",
       "      <td>0.77595</td>\n",
       "      <td>5.44025</td>\n",
       "      <td>8.48197</td>\n",
       "    </tr>\n",
       "    <tr>\n",
       "      <th>b</th>\n",
       "      <td>30.67800</td>\n",
       "      <td>3.84058</td>\n",
       "      <td>23.15046</td>\n",
       "      <td>38.20554</td>\n",
       "    </tr>\n",
       "  </tbody>\n",
       "</table>\n",
       "</div>"
      ],
      "text/plain": [
       "          coef  se(coef)  lower 95% bound  upper 95% bound\n",
       "r      2.41852   0.09732          2.22777          2.60927\n",
       "alpha  0.00438   0.00020          0.00398          0.00478\n",
       "a      6.96111   0.77595          5.44025          8.48197\n",
       "b     30.67800   3.84058         23.15046         38.20554"
      ]
     },
     "execution_count": 76,
     "metadata": {},
     "output_type": "execute_result"
    }
   ],
   "source": [
    "bgf.summary"
   ]
  },
  {
   "cell_type": "code",
   "execution_count": 52,
   "id": "cb096086",
   "metadata": {},
   "outputs": [
    {
     "data": {
      "text/plain": [
       "Customer ID\n",
       "15989.00000   1.44263\n",
       "16204.00000   1.35462\n",
       "16720.00000   1.35180\n",
       "14119.00000   1.34172\n",
       "17193.00000   1.33071\n",
       "15169.00000   1.31711\n",
       "17411.00000   1.31452\n",
       "17251.00000   1.30653\n",
       "17591.00000   1.28617\n",
       "17776.00000   1.24644\n",
       "dtype: float64"
      ]
     },
     "execution_count": 52,
     "metadata": {},
     "output_type": "execute_result"
    }
   ],
   "source": [
    "bgf.conditional_expected_number_of_purchases_up_to_time(1, df_uk['frequency'], df_uk['recency'], df_uk['T']).sort_values(ascending=False).head(10)"
   ]
  },
  {
   "cell_type": "code",
   "execution_count": 53,
   "id": "7d0020af",
   "metadata": {},
   "outputs": [],
   "source": [
    "df_uk['expected_purch_6month'] = bgf.predict(4*6, df_uk['frequency'], df_uk['recency'], df_uk['T'])"
   ]
  },
  {
   "cell_type": "code",
   "execution_count": 54,
   "id": "381cfe58",
   "metadata": {},
   "outputs": [
    {
     "data": {
      "text/html": [
       "<div>\n",
       "<style scoped>\n",
       "    .dataframe tbody tr th:only-of-type {\n",
       "        vertical-align: middle;\n",
       "    }\n",
       "\n",
       "    .dataframe tbody tr th {\n",
       "        vertical-align: top;\n",
       "    }\n",
       "\n",
       "    .dataframe thead th {\n",
       "        text-align: right;\n",
       "    }\n",
       "</style>\n",
       "<table border=\"1\" class=\"dataframe\">\n",
       "  <thead>\n",
       "    <tr style=\"text-align: right;\">\n",
       "      <th></th>\n",
       "      <th>monetary</th>\n",
       "      <th>recency</th>\n",
       "      <th>T</th>\n",
       "      <th>frequency</th>\n",
       "      <th>expected_purch_6month</th>\n",
       "    </tr>\n",
       "    <tr>\n",
       "      <th>Customer ID</th>\n",
       "      <th></th>\n",
       "      <th></th>\n",
       "      <th></th>\n",
       "      <th></th>\n",
       "      <th></th>\n",
       "    </tr>\n",
       "  </thead>\n",
       "  <tbody>\n",
       "    <tr>\n",
       "      <th>15989.00000</th>\n",
       "      <td>46.56375</td>\n",
       "      <td>0.02148</td>\n",
       "      <td>0.04391</td>\n",
       "      <td>2</td>\n",
       "      <td>1.44973</td>\n",
       "    </tr>\n",
       "    <tr>\n",
       "      <th>16204.00000</th>\n",
       "      <td>67.31625</td>\n",
       "      <td>0.02082</td>\n",
       "      <td>0.04355</td>\n",
       "      <td>2</td>\n",
       "      <td>1.36116</td>\n",
       "    </tr>\n",
       "    <tr>\n",
       "      <th>16720.00000</th>\n",
       "      <td>79.61000</td>\n",
       "      <td>0.02053</td>\n",
       "      <td>0.04302</td>\n",
       "      <td>2</td>\n",
       "      <td>1.35812</td>\n",
       "    </tr>\n",
       "    <tr>\n",
       "      <th>14119.00000</th>\n",
       "      <td>22.92125</td>\n",
       "      <td>0.02035</td>\n",
       "      <td>0.04278</td>\n",
       "      <td>2</td>\n",
       "      <td>1.34791</td>\n",
       "    </tr>\n",
       "    <tr>\n",
       "      <th>17193.00000</th>\n",
       "      <td>76.34250</td>\n",
       "      <td>0.02088</td>\n",
       "      <td>0.04391</td>\n",
       "      <td>2</td>\n",
       "      <td>1.33726</td>\n",
       "    </tr>\n",
       "  </tbody>\n",
       "</table>\n",
       "</div>"
      ],
      "text/plain": [
       "             monetary  recency       T  frequency  expected_purch_6month\n",
       "Customer ID                                                             \n",
       "15989.00000  46.56375  0.02148 0.04391          2                1.44973\n",
       "16204.00000  67.31625  0.02082 0.04355          2                1.36116\n",
       "16720.00000  79.61000  0.02053 0.04302          2                1.35812\n",
       "14119.00000  22.92125  0.02035 0.04278          2                1.34791\n",
       "17193.00000  76.34250  0.02088 0.04391          2                1.33726"
      ]
     },
     "execution_count": 54,
     "metadata": {},
     "output_type": "execute_result"
    }
   ],
   "source": [
    "df_uk.sort_values(by='expected_purch_6month', ascending= False).head()"
   ]
  },
  {
   "cell_type": "code",
   "execution_count": 55,
   "id": "ca198108",
   "metadata": {},
   "outputs": [],
   "source": [
    "ggf = GammaGammaFitter(penalizer_coef=0.01)"
   ]
  },
  {
   "cell_type": "code",
   "execution_count": 56,
   "id": "8c473297",
   "metadata": {},
   "outputs": [
    {
     "data": {
      "text/plain": [
       "<lifetimes.GammaGammaFitter: fitted with 2665 subjects, p: 1.00, q: 0.39, v: 1.15>"
      ]
     },
     "execution_count": 56,
     "metadata": {},
     "output_type": "execute_result"
    }
   ],
   "source": [
    "ggf.fit(df_uk['frequency'], df_uk['monetary'])"
   ]
  },
  {
   "cell_type": "code",
   "execution_count": 57,
   "id": "e8ae0989",
   "metadata": {},
   "outputs": [
    {
     "data": {
      "text/html": [
       "<div>\n",
       "<style scoped>\n",
       "    .dataframe tbody tr th:only-of-type {\n",
       "        vertical-align: middle;\n",
       "    }\n",
       "\n",
       "    .dataframe tbody tr th {\n",
       "        vertical-align: top;\n",
       "    }\n",
       "\n",
       "    .dataframe thead th {\n",
       "        text-align: right;\n",
       "    }\n",
       "</style>\n",
       "<table border=\"1\" class=\"dataframe\">\n",
       "  <thead>\n",
       "    <tr style=\"text-align: right;\">\n",
       "      <th></th>\n",
       "      <th>coef</th>\n",
       "      <th>se(coef)</th>\n",
       "      <th>lower 95% bound</th>\n",
       "      <th>upper 95% bound</th>\n",
       "    </tr>\n",
       "  </thead>\n",
       "  <tbody>\n",
       "    <tr>\n",
       "      <th>p</th>\n",
       "      <td>1.00450</td>\n",
       "      <td>0.05670</td>\n",
       "      <td>0.89336</td>\n",
       "      <td>1.11563</td>\n",
       "    </tr>\n",
       "    <tr>\n",
       "      <th>q</th>\n",
       "      <td>0.39110</td>\n",
       "      <td>0.00906</td>\n",
       "      <td>0.37334</td>\n",
       "      <td>0.40887</td>\n",
       "    </tr>\n",
       "    <tr>\n",
       "      <th>v</th>\n",
       "      <td>1.15175</td>\n",
       "      <td>0.08055</td>\n",
       "      <td>0.99387</td>\n",
       "      <td>1.30963</td>\n",
       "    </tr>\n",
       "  </tbody>\n",
       "</table>\n",
       "</div>"
      ],
      "text/plain": [
       "     coef  se(coef)  lower 95% bound  upper 95% bound\n",
       "p 1.00450   0.05670          0.89336          1.11563\n",
       "q 0.39110   0.00906          0.37334          0.40887\n",
       "v 1.15175   0.08055          0.99387          1.30963"
      ]
     },
     "execution_count": 57,
     "metadata": {},
     "output_type": "execute_result"
    }
   ],
   "source": [
    "ggf.summary"
   ]
  },
  {
   "cell_type": "code",
   "execution_count": 58,
   "id": "2f2c8304",
   "metadata": {},
   "outputs": [
    {
     "data": {
      "text/plain": [
       "Customer ID\n",
       "14091.00000   1628.87692\n",
       "16749.00000    787.70247\n",
       "13763.00000    629.03870\n",
       "15786.00000    626.01107\n",
       "14088.00000    625.78411\n",
       "13334.00000    489.93438\n",
       "12967.00000    475.42219\n",
       "17686.00000    459.51814\n",
       "15077.00000    436.33200\n",
       "15050.00000    433.39404\n",
       "dtype: float64"
      ]
     },
     "execution_count": 58,
     "metadata": {},
     "output_type": "execute_result"
    }
   ],
   "source": [
    "ggf.conditional_expected_average_profit(df_uk['frequency'], df_uk['monetary']).sort_values(ascending=False).head(10)"
   ]
  },
  {
   "cell_type": "code",
   "execution_count": 59,
   "id": "e6beb718",
   "metadata": {},
   "outputs": [],
   "source": [
    "#########\n",
    "df_uk['expected_average_profit'] = ggf.conditional_expected_average_profit(df_uk['frequency'], df_uk['monetary'])\n",
    "#########"
   ]
  },
  {
   "cell_type": "code",
   "execution_count": 60,
   "id": "1e1928e4",
   "metadata": {},
   "outputs": [],
   "source": [
    "cltv = ggf.customer_lifetime_value(bgf, df_uk['frequency'], df_uk['recency'], df_uk['T'], df_uk['monetary'], time=6, freq='W')"
   ]
  },
  {
   "cell_type": "code",
   "execution_count": 61,
   "id": "bb4d516d",
   "metadata": {},
   "outputs": [],
   "source": [
    "cltv = cltv.reset_index()"
   ]
  },
  {
   "cell_type": "code",
   "execution_count": 62,
   "id": "8db91581",
   "metadata": {},
   "outputs": [],
   "source": [
    "cltv_final = df_uk.merge(cltv, on='Customer ID', how='left')"
   ]
  },
  {
   "cell_type": "code",
   "execution_count": 63,
   "id": "de94d764",
   "metadata": {},
   "outputs": [
    {
     "data": {
      "text/html": [
       "<div>\n",
       "<style scoped>\n",
       "    .dataframe tbody tr th:only-of-type {\n",
       "        vertical-align: middle;\n",
       "    }\n",
       "\n",
       "    .dataframe tbody tr th {\n",
       "        vertical-align: top;\n",
       "    }\n",
       "\n",
       "    .dataframe thead th {\n",
       "        text-align: right;\n",
       "    }\n",
       "</style>\n",
       "<table border=\"1\" class=\"dataframe\">\n",
       "  <thead>\n",
       "    <tr style=\"text-align: right;\">\n",
       "      <th></th>\n",
       "      <th>Customer ID</th>\n",
       "      <th>monetary</th>\n",
       "      <th>recency</th>\n",
       "      <th>T</th>\n",
       "      <th>frequency</th>\n",
       "      <th>expected_purch_6month</th>\n",
       "      <th>expected_average_profit</th>\n",
       "      <th>clv</th>\n",
       "    </tr>\n",
       "  </thead>\n",
       "  <tbody>\n",
       "    <tr>\n",
       "      <th>30</th>\n",
       "      <td>12873.00000</td>\n",
       "      <td>206.66250</td>\n",
       "      <td>0.01690</td>\n",
       "      <td>0.04058</td>\n",
       "      <td>2</td>\n",
       "      <td>0.92719</td>\n",
       "      <td>297.36578</td>\n",
       "      <td>272.98588</td>\n",
       "    </tr>\n",
       "    <tr>\n",
       "      <th>206</th>\n",
       "      <td>13253.00000</td>\n",
       "      <td>240.08875</td>\n",
       "      <td>0.01624</td>\n",
       "      <td>0.04189</td>\n",
       "      <td>2</td>\n",
       "      <td>0.73594</td>\n",
       "      <td>345.32902</td>\n",
       "      <td>251.62521</td>\n",
       "    </tr>\n",
       "    <tr>\n",
       "      <th>586</th>\n",
       "      <td>14038.00000</td>\n",
       "      <td>188.68750</td>\n",
       "      <td>0.01642</td>\n",
       "      <td>0.04010</td>\n",
       "      <td>2</td>\n",
       "      <td>0.88592</td>\n",
       "      <td>271.57350</td>\n",
       "      <td>238.20992</td>\n",
       "    </tr>\n",
       "    <tr>\n",
       "      <th>1466</th>\n",
       "      <td>15865.00000</td>\n",
       "      <td>169.22375</td>\n",
       "      <td>0.01725</td>\n",
       "      <td>0.04189</td>\n",
       "      <td>2</td>\n",
       "      <td>0.88565</td>\n",
       "      <td>243.64502</td>\n",
       "      <td>213.64800</td>\n",
       "    </tr>\n",
       "    <tr>\n",
       "      <th>2480</th>\n",
       "      <td>17857.00000</td>\n",
       "      <td>140.74687</td>\n",
       "      <td>0.01636</td>\n",
       "      <td>0.03820</td>\n",
       "      <td>2</td>\n",
       "      <td>1.03335</td>\n",
       "      <td>202.78363</td>\n",
       "      <td>207.47254</td>\n",
       "    </tr>\n",
       "  </tbody>\n",
       "</table>\n",
       "</div>"
      ],
      "text/plain": [
       "      Customer ID  monetary  recency       T  frequency  \\\n",
       "30    12873.00000 206.66250  0.01690 0.04058          2   \n",
       "206   13253.00000 240.08875  0.01624 0.04189          2   \n",
       "586   14038.00000 188.68750  0.01642 0.04010          2   \n",
       "1466  15865.00000 169.22375  0.01725 0.04189          2   \n",
       "2480  17857.00000 140.74687  0.01636 0.03820          2   \n",
       "\n",
       "      expected_purch_6month  expected_average_profit       clv  \n",
       "30                  0.92719                297.36578 272.98588  \n",
       "206                 0.73594                345.32902 251.62521  \n",
       "586                 0.88592                271.57350 238.20992  \n",
       "1466                0.88565                243.64502 213.64800  \n",
       "2480                1.03335                202.78363 207.47254  "
      ]
     },
     "execution_count": 63,
     "metadata": {},
     "output_type": "execute_result"
    }
   ],
   "source": [
    "\n",
    "cltv_final.sort_values(by='clv', ascending=False).head()"
   ]
  },
  {
   "cell_type": "code",
   "execution_count": 64,
   "id": "28a1bc55",
   "metadata": {},
   "outputs": [],
   "source": [
    "scaler = MinMaxScaler(feature_range=(0, 1))"
   ]
  },
  {
   "cell_type": "code",
   "execution_count": 65,
   "id": "7b3d3375",
   "metadata": {},
   "outputs": [
    {
     "data": {
      "text/html": [
       "<div>\n",
       "<style scoped>\n",
       "    .dataframe tbody tr th:only-of-type {\n",
       "        vertical-align: middle;\n",
       "    }\n",
       "\n",
       "    .dataframe tbody tr th {\n",
       "        vertical-align: top;\n",
       "    }\n",
       "\n",
       "    .dataframe thead th {\n",
       "        text-align: right;\n",
       "    }\n",
       "</style>\n",
       "<table border=\"1\" class=\"dataframe\">\n",
       "  <thead>\n",
       "    <tr style=\"text-align: right;\">\n",
       "      <th></th>\n",
       "      <th>Customer ID</th>\n",
       "      <th>monetary</th>\n",
       "      <th>recency</th>\n",
       "      <th>T</th>\n",
       "      <th>frequency</th>\n",
       "      <th>expected_purch_6month</th>\n",
       "      <th>expected_average_profit</th>\n",
       "      <th>clv</th>\n",
       "    </tr>\n",
       "  </thead>\n",
       "  <tbody>\n",
       "    <tr>\n",
       "      <th>0</th>\n",
       "      <td>12346.00000</td>\n",
       "      <td>0.28014</td>\n",
       "      <td>0.01166</td>\n",
       "      <td>0.04320</td>\n",
       "      <td>11</td>\n",
       "      <td>0.00002</td>\n",
       "      <td>0.40728</td>\n",
       "      <td>0.00001</td>\n",
       "    </tr>\n",
       "    <tr>\n",
       "      <th>1</th>\n",
       "      <td>12745.00000</td>\n",
       "      <td>90.48125</td>\n",
       "      <td>0.00518</td>\n",
       "      <td>0.03421</td>\n",
       "      <td>2</td>\n",
       "      <td>0.06123</td>\n",
       "      <td>130.65762</td>\n",
       "      <td>7.92098</td>\n",
       "    </tr>\n",
       "    <tr>\n",
       "      <th>2</th>\n",
       "      <td>12747.00000</td>\n",
       "      <td>1.24036</td>\n",
       "      <td>0.02160</td>\n",
       "      <td>0.04361</td>\n",
       "      <td>16</td>\n",
       "      <td>0.00071</td>\n",
       "      <td>1.36403</td>\n",
       "      <td>0.00096</td>\n",
       "    </tr>\n",
       "    <tr>\n",
       "      <th>3</th>\n",
       "      <td>12748.00000</td>\n",
       "      <td>0.00678</td>\n",
       "      <td>0.02196</td>\n",
       "      <td>0.04379</td>\n",
       "      <td>144</td>\n",
       "      <td>0.00000</td>\n",
       "      <td>0.01484</td>\n",
       "      <td>0.00000</td>\n",
       "    </tr>\n",
       "    <tr>\n",
       "      <th>4</th>\n",
       "      <td>12749.00000</td>\n",
       "      <td>43.85125</td>\n",
       "      <td>0.00720</td>\n",
       "      <td>0.03106</td>\n",
       "      <td>4</td>\n",
       "      <td>0.02503</td>\n",
       "      <td>52.02289</td>\n",
       "      <td>1.28919</td>\n",
       "    </tr>\n",
       "  </tbody>\n",
       "</table>\n",
       "</div>"
      ],
      "text/plain": [
       "   Customer ID  monetary  recency       T  frequency  expected_purch_6month  \\\n",
       "0  12346.00000   0.28014  0.01166 0.04320         11                0.00002   \n",
       "1  12745.00000  90.48125  0.00518 0.03421          2                0.06123   \n",
       "2  12747.00000   1.24036  0.02160 0.04361         16                0.00071   \n",
       "3  12748.00000   0.00678  0.02196 0.04379        144                0.00000   \n",
       "4  12749.00000  43.85125  0.00720 0.03106          4                0.02503   \n",
       "\n",
       "   expected_average_profit     clv  \n",
       "0                  0.40728 0.00001  \n",
       "1                130.65762 7.92098  \n",
       "2                  1.36403 0.00096  \n",
       "3                  0.01484 0.00000  \n",
       "4                 52.02289 1.28919  "
      ]
     },
     "execution_count": 65,
     "metadata": {},
     "output_type": "execute_result"
    }
   ],
   "source": [
    "cltv_final.head()"
   ]
  },
  {
   "cell_type": "code",
   "execution_count": 66,
   "id": "dde6c381",
   "metadata": {},
   "outputs": [
    {
     "data": {
      "text/plain": [
       "MinMaxScaler()"
      ]
     },
     "execution_count": 66,
     "metadata": {},
     "output_type": "execute_result"
    }
   ],
   "source": [
    "scaler.fit(cltv_final[['clv']])"
   ]
  },
  {
   "cell_type": "code",
   "execution_count": 67,
   "id": "c56404fa",
   "metadata": {},
   "outputs": [],
   "source": [
    "cltv_final['scaled_cltv'] = scaler.transform(cltv_final[['clv']])\n"
   ]
  },
  {
   "cell_type": "code",
   "execution_count": 68,
   "id": "1604db16",
   "metadata": {},
   "outputs": [
    {
     "data": {
      "text/html": [
       "<div>\n",
       "<style scoped>\n",
       "    .dataframe tbody tr th:only-of-type {\n",
       "        vertical-align: middle;\n",
       "    }\n",
       "\n",
       "    .dataframe tbody tr th {\n",
       "        vertical-align: top;\n",
       "    }\n",
       "\n",
       "    .dataframe thead th {\n",
       "        text-align: right;\n",
       "    }\n",
       "</style>\n",
       "<table border=\"1\" class=\"dataframe\">\n",
       "  <thead>\n",
       "    <tr style=\"text-align: right;\">\n",
       "      <th></th>\n",
       "      <th>Customer ID</th>\n",
       "      <th>monetary</th>\n",
       "      <th>recency</th>\n",
       "      <th>T</th>\n",
       "      <th>frequency</th>\n",
       "      <th>expected_purch_6month</th>\n",
       "      <th>expected_average_profit</th>\n",
       "      <th>clv</th>\n",
       "      <th>scaled_cltv</th>\n",
       "    </tr>\n",
       "  </thead>\n",
       "  <tbody>\n",
       "    <tr>\n",
       "      <th>30</th>\n",
       "      <td>12873.00000</td>\n",
       "      <td>206.66250</td>\n",
       "      <td>0.01690</td>\n",
       "      <td>0.04058</td>\n",
       "      <td>2</td>\n",
       "      <td>0.92719</td>\n",
       "      <td>297.36578</td>\n",
       "      <td>272.98588</td>\n",
       "      <td>1.00000</td>\n",
       "    </tr>\n",
       "    <tr>\n",
       "      <th>206</th>\n",
       "      <td>13253.00000</td>\n",
       "      <td>240.08875</td>\n",
       "      <td>0.01624</td>\n",
       "      <td>0.04189</td>\n",
       "      <td>2</td>\n",
       "      <td>0.73594</td>\n",
       "      <td>345.32902</td>\n",
       "      <td>251.62521</td>\n",
       "      <td>0.92175</td>\n",
       "    </tr>\n",
       "    <tr>\n",
       "      <th>586</th>\n",
       "      <td>14038.00000</td>\n",
       "      <td>188.68750</td>\n",
       "      <td>0.01642</td>\n",
       "      <td>0.04010</td>\n",
       "      <td>2</td>\n",
       "      <td>0.88592</td>\n",
       "      <td>271.57350</td>\n",
       "      <td>238.20992</td>\n",
       "      <td>0.87261</td>\n",
       "    </tr>\n",
       "    <tr>\n",
       "      <th>1466</th>\n",
       "      <td>15865.00000</td>\n",
       "      <td>169.22375</td>\n",
       "      <td>0.01725</td>\n",
       "      <td>0.04189</td>\n",
       "      <td>2</td>\n",
       "      <td>0.88565</td>\n",
       "      <td>243.64502</td>\n",
       "      <td>213.64800</td>\n",
       "      <td>0.78263</td>\n",
       "    </tr>\n",
       "    <tr>\n",
       "      <th>2480</th>\n",
       "      <td>17857.00000</td>\n",
       "      <td>140.74687</td>\n",
       "      <td>0.01636</td>\n",
       "      <td>0.03820</td>\n",
       "      <td>2</td>\n",
       "      <td>1.03335</td>\n",
       "      <td>202.78363</td>\n",
       "      <td>207.47254</td>\n",
       "      <td>0.76001</td>\n",
       "    </tr>\n",
       "  </tbody>\n",
       "</table>\n",
       "</div>"
      ],
      "text/plain": [
       "      Customer ID  monetary  recency       T  frequency  \\\n",
       "30    12873.00000 206.66250  0.01690 0.04058          2   \n",
       "206   13253.00000 240.08875  0.01624 0.04189          2   \n",
       "586   14038.00000 188.68750  0.01642 0.04010          2   \n",
       "1466  15865.00000 169.22375  0.01725 0.04189          2   \n",
       "2480  17857.00000 140.74687  0.01636 0.03820          2   \n",
       "\n",
       "      expected_purch_6month  expected_average_profit       clv  scaled_cltv  \n",
       "30                  0.92719                297.36578 272.98588      1.00000  \n",
       "206                 0.73594                345.32902 251.62521      0.92175  \n",
       "586                 0.88592                271.57350 238.20992      0.87261  \n",
       "1466                0.88565                243.64502 213.64800      0.78263  \n",
       "2480                1.03335                202.78363 207.47254      0.76001  "
      ]
     },
     "execution_count": 68,
     "metadata": {},
     "output_type": "execute_result"
    }
   ],
   "source": [
    "cltv_final.sort_values(by='scaled_cltv', ascending=False).head()\n"
   ]
  },
  {
   "cell_type": "code",
   "execution_count": 69,
   "id": "20a5b39c",
   "metadata": {},
   "outputs": [
    {
     "data": {
      "text/html": [
       "<div>\n",
       "<style scoped>\n",
       "    .dataframe tbody tr th:only-of-type {\n",
       "        vertical-align: middle;\n",
       "    }\n",
       "\n",
       "    .dataframe tbody tr th {\n",
       "        vertical-align: top;\n",
       "    }\n",
       "\n",
       "    .dataframe thead th {\n",
       "        text-align: right;\n",
       "    }\n",
       "</style>\n",
       "<table border=\"1\" class=\"dataframe\">\n",
       "  <thead>\n",
       "    <tr style=\"text-align: right;\">\n",
       "      <th></th>\n",
       "      <th>Customer ID</th>\n",
       "      <th>monetary</th>\n",
       "      <th>recency</th>\n",
       "      <th>T</th>\n",
       "      <th>frequency</th>\n",
       "      <th>expected_purch_6month</th>\n",
       "      <th>expected_average_profit</th>\n",
       "      <th>clv</th>\n",
       "      <th>scaled_cltv</th>\n",
       "    </tr>\n",
       "  </thead>\n",
       "  <tbody>\n",
       "    <tr>\n",
       "      <th>866</th>\n",
       "      <td>14606.00000</td>\n",
       "      <td>0.01756</td>\n",
       "      <td>0.02196</td>\n",
       "      <td>0.04385</td>\n",
       "      <td>102</td>\n",
       "      <td>0.00000</td>\n",
       "      <td>0.02902</td>\n",
       "      <td>0.00000</td>\n",
       "      <td>0.00000</td>\n",
       "    </tr>\n",
       "    <tr>\n",
       "      <th>132</th>\n",
       "      <td>13089.00000</td>\n",
       "      <td>0.04472</td>\n",
       "      <td>0.02190</td>\n",
       "      <td>0.04391</td>\n",
       "      <td>109</td>\n",
       "      <td>0.00000</td>\n",
       "      <td>0.05559</td>\n",
       "      <td>0.00000</td>\n",
       "      <td>0.00000</td>\n",
       "    </tr>\n",
       "    <tr>\n",
       "      <th>1208</th>\n",
       "      <td>15311.00000</td>\n",
       "      <td>0.03152</td>\n",
       "      <td>0.02219</td>\n",
       "      <td>0.04397</td>\n",
       "      <td>121</td>\n",
       "      <td>0.00000</td>\n",
       "      <td>0.04125</td>\n",
       "      <td>0.00000</td>\n",
       "      <td>0.00000</td>\n",
       "    </tr>\n",
       "    <tr>\n",
       "      <th>3</th>\n",
       "      <td>12748.00000</td>\n",
       "      <td>0.00678</td>\n",
       "      <td>0.02196</td>\n",
       "      <td>0.04379</td>\n",
       "      <td>144</td>\n",
       "      <td>0.00000</td>\n",
       "      <td>0.01484</td>\n",
       "      <td>0.00000</td>\n",
       "      <td>0.00000</td>\n",
       "    </tr>\n",
       "    <tr>\n",
       "      <th>2475</th>\n",
       "      <td>17850.00000</td>\n",
       "      <td>0.01373</td>\n",
       "      <td>0.02154</td>\n",
       "      <td>0.04373</td>\n",
       "      <td>155</td>\n",
       "      <td>0.00000</td>\n",
       "      <td>0.02125</td>\n",
       "      <td>0.00000</td>\n",
       "      <td>0.00000</td>\n",
       "    </tr>\n",
       "  </tbody>\n",
       "</table>\n",
       "</div>"
      ],
      "text/plain": [
       "      Customer ID  monetary  recency       T  frequency  \\\n",
       "866   14606.00000   0.01756  0.02196 0.04385        102   \n",
       "132   13089.00000   0.04472  0.02190 0.04391        109   \n",
       "1208  15311.00000   0.03152  0.02219 0.04397        121   \n",
       "3     12748.00000   0.00678  0.02196 0.04379        144   \n",
       "2475  17850.00000   0.01373  0.02154 0.04373        155   \n",
       "\n",
       "      expected_purch_6month  expected_average_profit     clv  scaled_cltv  \n",
       "866                 0.00000                  0.02902 0.00000      0.00000  \n",
       "132                 0.00000                  0.05559 0.00000      0.00000  \n",
       "1208                0.00000                  0.04125 0.00000      0.00000  \n",
       "3                   0.00000                  0.01484 0.00000      0.00000  \n",
       "2475                0.00000                  0.02125 0.00000      0.00000  "
      ]
     },
     "execution_count": 69,
     "metadata": {},
     "output_type": "execute_result"
    }
   ],
   "source": [
    "cltv_final.sort_values(by='scaled_cltv', ascending=False).tail()\n"
   ]
  },
  {
   "cell_type": "code",
   "execution_count": 70,
   "id": "84da1dd1",
   "metadata": {},
   "outputs": [
    {
     "data": {
      "text/plain": [
       "<AxesSubplot:title={'center':'Frequency of Repeat Transactions'}, xlabel='Number of Calibration Period Transactions', ylabel='Customers'>"
      ]
     },
     "execution_count": 70,
     "metadata": {},
     "output_type": "execute_result"
    },
    {
     "data": {
      "image/png": "[encoded data removed]",
      "text/plain": [
       "<Figure size 432x288 with 1 Axes>"
      ]
     },
     "metadata": {
      "needs_background": "light"
     },
     "output_type": "display_data"
    }
   ],
   "source": [
    "plot_period_transactions(bgf)"
   ]
  },
  {
   "cell_type": "code",
   "execution_count": 71,
   "id": "0b27b445",
   "metadata": {},
   "outputs": [
    {
     "data": {
      "text/plain": [
       "<AxesSubplot:title={'center':'Probability Customer is Alive,\\nby Frequency and Recency of a Customer'}, xlabel=\"Customer's Historical Frequency\", ylabel=\"Customer's Recency\">"
      ]
     },
     "execution_count": 71,
     "metadata": {},
     "output_type": "execute_result"
    },
    {
     "data": {
      "image/png": "[encoded data removed]",
      "text/plain": [
       "<Figure size 432x288 with 2 Axes>"
      ]
     },
     "metadata": {
      "needs_background": "light"
     },
     "output_type": "display_data"
    }
   ],
   "source": [
    "plot_probability_alive_matrix(bgf)"
   ]
  },
  {
   "cell_type": "code",
   "execution_count": null,
   "id": "59886bb9",
   "metadata": {},
   "outputs": [],
   "source": []
  }
 ],
 "metadata": {
  "kernelspec": {
   "display_name": "Python 3 (ipykernel)",
   "language": "python",
   "name": "python3"
  },
  "language_info": {
   "codemirror_mode": {
    "name": "ipython",
    "version": 3
   },
   "file_extension": ".py",
   "mimetype": "text/x-python",
   "name": "python",
   "nbconvert_exporter": "python",
   "pygments_lexer": "ipython3",
   "version": "3.8.8"
  }
 },
 "nbformat": 4,
 "nbformat_minor": 5
}
